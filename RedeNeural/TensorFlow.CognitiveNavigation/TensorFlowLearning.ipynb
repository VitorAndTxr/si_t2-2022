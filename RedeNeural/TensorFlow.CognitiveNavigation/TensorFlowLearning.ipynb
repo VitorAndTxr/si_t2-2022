{
 "cells": [
  {
   "cell_type": "code",
   "execution_count": 33,
   "id": "157615cf",
   "metadata": {},
   "outputs": [
    {
     "name": "stdout",
     "output_type": "stream",
     "text": [
      "3/3 - 0s - loss: 0.1315 - accuracy: 0.8205 - 97ms/epoch - 32ms/step\n",
      "3/3 - 0s - loss: 0.1315 - accuracy: 0.8205 - 99ms/epoch - 33ms/step\n"
     ]
    },
    {
     "data": {
      "text/plain": [
       "[0.13151104748249054, 0.8205128312110901]"
      ]
     },
     "execution_count": 33,
     "metadata": {},
     "output_type": "execute_result"
    }
   ],
   "source": [
    "from lib.utils import load_dataset, get_network_model\n",
    "import tensorflow as tf\n",
    "\n",
    "navegacao_basica = load_dataset('dataset/navegacao_basica.csv')\n",
    "treino = load_dataset('dataset/treino.csv')\n",
    "\n",
    "teste_final = load_dataset('dataset/teste_final.csv')\n",
    "\n",
    "\n",
    "model = get_network_model()\n",
    "\n",
    "model.fit(navegacao_basica.Input, navegacao_basica.Output, epochs=100)\n",
    "\n",
    "model.fit(treino.Input, treino.Output, epochs=100)\n",
    "\n",
    "\n",
    "model.evaluate(teste_final.Input, teste_final.Output, verbose=2)\n",
    "model.save(\"model\")\n",
    "\n",
    "\n"
   ]
  },
  {
   "cell_type": "code",
   "execution_count": null,
   "id": "816d740a",
   "metadata": {},
   "outputs": [],
   "source": [
    "from lib.utils import load_dataset, get_network_model\n",
    "import tensorflow as tf\n",
    "model = tf.keras.models.load_model(\"model\")\n",
    "model.evaluate(teste_final.Input, teste_final.Output, verbose=2)\n"
   ]
  },
  {
   "cell_type": "code",
   "execution_count": null,
   "id": "3243dd3c",
   "metadata": {},
   "outputs": [],
   "source": []
  },
  {
   "cell_type": "code",
   "execution_count": null,
   "id": "7f366bbe",
   "metadata": {},
   "outputs": [],
   "source": []
  },
  {
   "cell_type": "code",
   "execution_count": null,
   "id": "f2e2e47f",
   "metadata": {},
   "outputs": [],
   "source": []
  },
  {
   "cell_type": "code",
   "execution_count": null,
   "id": "7c5a161c",
   "metadata": {},
   "outputs": [],
   "source": []
  },
  {
   "cell_type": "code",
   "execution_count": null,
   "id": "22959b8a",
   "metadata": {},
   "outputs": [],
   "source": []
  },
  {
   "cell_type": "code",
   "execution_count": null,
   "id": "f8304bcc",
   "metadata": {},
   "outputs": [],
   "source": []
  }
 ],
 "metadata": {
  "kernelspec": {
   "display_name": "Python 3.10.6 ('jupyterenv': venv)",
   "language": "python",
   "name": "python3"
  },
  "language_info": {
   "codemirror_mode": {
    "name": "ipython",
    "version": 3
   },
   "file_extension": ".py",
   "mimetype": "text/x-python",
   "name": "python",
   "nbconvert_exporter": "python",
   "pygments_lexer": "ipython3",
   "version": "3.10.6"
  },
  "vscode": {
   "interpreter": {
    "hash": "dedf93ddf0cc39360d5efec08110cd27dd64bba198f4f48de033f38affcbc108"
   }
  }
 },
 "nbformat": 4,
 "nbformat_minor": 5
}
