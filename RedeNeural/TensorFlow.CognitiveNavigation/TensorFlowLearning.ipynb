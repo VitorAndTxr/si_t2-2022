{
 "cells": [
  {
   "cell_type": "code",
   "execution_count": null,
   "id": "157615cf",
   "metadata": {},
   "outputs": [],
   "source": [
    "from lib.utils import load_dataset, get_network_model, mount_training_batch, write_csv_row\n",
    "import tensorflow as tf\n",
    "import os\n",
    "\n",
    "def get_model(model_name):\n",
    "    if os.path.exists(model_name):\n",
    "        return tf.keras.models.load_model(model_name)\n",
    "    else:\n",
    "        return get_network_model()\n",
    "\n",
    "training_batch = load_dataset('dataset/treino_completo.csv')\n",
    "\n",
    "teste_final = load_dataset('dataset/teste_completo.csv')\n",
    "write_csv_row('mean_absolute_percentage_error,mean_squared_error,accuracy')\n",
    "\n",
    "epoch_size = 5\n",
    "training_batch_size = 60\n",
    "model_name = \"modelos/modelo_tanh_completo\"\n",
    "\n",
    "model = get_model(model_name)\n",
    "print(\"Modelo antes do treinamento\")\n",
    "result = model.evaluate(teste_final.Input, teste_final.Output, verbose=2)\n",
    "\n",
    "write_csv_row([str(result[0])+\",\"+str(result[1])+\",\"+str(result[2])])\n",
    "\n",
    "lower_loss = float(result[1])\n",
    "accuracy = float(result[1])\n",
    "training_model_loss = 1\n",
    "\n",
    "\n",
    "while accuracy < 0.95 and lower_loss > 0.01:\n",
    "\n",
    "    model.fit(\n",
    "        training_batch.Input, \n",
    "        training_batch.Output, \n",
    "        epochs=epoch_size,\n",
    "        verbose='auto',\n",
    "        validation_data=(teste_final.Input, teste_final.Output))\n",
    "\n",
    "    new_result = model.evaluate(teste_final.Input, teste_final.Output, verbose=2)\n",
    "\n",
    "    lower_loss = float(new_result[1])\n",
    "    accuracy = float(new_result[2])\n",
    "\n",
    "    write_csv_row([str(new_result[0])+\",\"+str(new_result[1])+\",\"+str(new_result[2])])\n",
    "    print(\"Novo model salvo\")\n",
    "    model.save(model_name)\n",
    "\n",
    "print(\"\")\n",
    "\n",
    "\n",
    "\n",
    "\n",
    "\n",
    "\n",
    "\n"
   ]
  },
  {
   "cell_type": "code",
   "execution_count": 1,
   "id": "3243dd3c",
   "metadata": {},
   "outputs": [
    {
     "name": "stderr",
     "output_type": "stream",
     "text": [
      "2022-11-06 21:03:45.955098: I tensorflow/core/platform/cpu_feature_guard.cc:193] This TensorFlow binary is optimized with oneAPI Deep Neural Network Library (oneDNN) to use the following CPU instructions in performance-critical operations:  AVX2 FMA\n",
      "To enable them in other operations, rebuild TensorFlow with the appropriate compiler flags.\n",
      "2022-11-06 21:03:47.040517: I tensorflow/core/platform/cpu_feature_guard.cc:193] This TensorFlow binary is optimized with oneAPI Deep Neural Network Library (oneDNN) to use the following CPU instructions in performance-critical operations:  AVX2 FMA\n",
      "To enable them in other operations, rebuild TensorFlow with the appropriate compiler flags.\n"
     ]
    },
    {
     "name": "stdout",
     "output_type": "stream",
     "text": [
      "[[0.83, 0.22]]\n",
      "1/1 - 0s - loss: 0.0464 - accuracy: 0.8333 - 214ms/epoch - 214ms/step\n",
      "1/1 [==============================] - 0s 148ms/step\n"
     ]
    },
    {
     "data": {
      "text/plain": [
       "array([[0.8991412 , 0.00733529]], dtype=float32)"
      ]
     },
     "execution_count": 1,
     "metadata": {},
     "output_type": "execute_result"
    }
   ],
   "source": [
    "from lib.utils import load_dataset, get_network_model, mount_training_batch\n",
    "import tensorflow as tf\n",
    "\n",
    "index = 9\n",
    "\n",
    "model = tf.keras.models.load_model('modelo_simples_tanh_n_normalizado')\n",
    "teste_final = load_dataset('dataset/teste_completo.csv')\n",
    "teste = [teste_final.Input[index]]\n",
    "\n",
    "print([teste_final.Output[index]])\n",
    "\n",
    "result = model.evaluate(teste_final.Input, teste_final.Output, verbose=2)\n",
    "model.predict(teste)"
   ]
  },
  {
   "cell_type": "code",
   "execution_count": null,
   "id": "7f366bbe",
   "metadata": {},
   "outputs": [],
   "source": []
  },
  {
   "cell_type": "code",
   "execution_count": null,
   "id": "f2e2e47f",
   "metadata": {},
   "outputs": [],
   "source": []
  },
  {
   "cell_type": "code",
   "execution_count": null,
   "id": "7c5a161c",
   "metadata": {},
   "outputs": [],
   "source": []
  },
  {
   "cell_type": "code",
   "execution_count": null,
   "id": "22959b8a",
   "metadata": {},
   "outputs": [],
   "source": []
  },
  {
   "cell_type": "code",
   "execution_count": null,
   "id": "f8304bcc",
   "metadata": {},
   "outputs": [],
   "source": []
  }
 ],
 "metadata": {
  "kernelspec": {
   "display_name": "Python 3.9.13 ('tf')",
   "language": "python",
   "name": "python3"
  },
  "language_info": {
   "codemirror_mode": {
    "name": "ipython",
    "version": 3
   },
   "file_extension": ".py",
   "mimetype": "text/x-python",
   "name": "python",
   "nbconvert_exporter": "python",
   "pygments_lexer": "ipython3",
   "version": "3.9.13"
  },
  "vscode": {
   "interpreter": {
    "hash": "fd3f6f9982a7c6c370afcc97012b2e4ab251cbc6653c776e4a1f9e6ceb061f4d"
   }
  }
 },
 "nbformat": 4,
 "nbformat_minor": 5
}
